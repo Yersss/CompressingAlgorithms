{
 "cells": [
  {
   "cell_type": "code",
   "execution_count": 1,
   "metadata": {},
   "outputs": [],
   "source": [
    "# This Project is done by Yersain Makazhanov and Arsen Yerbol\n",
    "# CSSE - 1608"
   ]
  },
  {
   "cell_type": "code",
   "execution_count": 2,
   "metadata": {},
   "outputs": [],
   "source": [
    "import numpy as np"
   ]
  },
  {
   "cell_type": "code",
   "execution_count": 3,
   "metadata": {
    "scrolled": true
   },
   "outputs": [],
   "source": [
    "f = open(\"text.txt\", \"r\")"
   ]
  },
  {
   "cell_type": "code",
   "execution_count": 4,
   "metadata": {},
   "outputs": [],
   "source": [
    "text = f.read()[:-1]"
   ]
  },
  {
   "cell_type": "code",
   "execution_count": 5,
   "metadata": {},
   "outputs": [],
   "source": [
    "keys = list(set(text))"
   ]
  },
  {
   "cell_type": "code",
   "execution_count": 6,
   "metadata": {},
   "outputs": [],
   "source": [
    "values = np.zeros((len(keys),), dtype = int)"
   ]
  },
  {
   "cell_type": "code",
   "execution_count": 7,
   "metadata": {},
   "outputs": [],
   "source": [
    "d = dict(zip(keys, values))"
   ]
  },
  {
   "cell_type": "code",
   "execution_count": 8,
   "metadata": {},
   "outputs": [],
   "source": [
    "for char in text:\n",
    "    d[char]+=1"
   ]
  },
  {
   "cell_type": "code",
   "execution_count": 9,
   "metadata": {},
   "outputs": [],
   "source": [
    "for key in d:\n",
    "    d[key] = d[key] / len(text)"
   ]
  },
  {
   "cell_type": "code",
   "execution_count": 10,
   "metadata": {},
   "outputs": [],
   "source": [
    "d = sorted(d.items(), key=lambda x: x[1], reverse = True)"
   ]
  },
  {
   "cell_type": "code",
   "execution_count": 11,
   "metadata": {},
   "outputs": [
    {
     "data": {
      "text/plain": [
       "[('a', 0.45454545454545453),\n",
       " ('r', 0.18181818181818182),\n",
       " ('b', 0.18181818181818182),\n",
       " ('c', 0.09090909090909091),\n",
       " ('d', 0.09090909090909091)]"
      ]
     },
     "execution_count": 11,
     "metadata": {},
     "output_type": "execute_result"
    }
   ],
   "source": [
    "d"
   ]
  },
  {
   "cell_type": "code",
   "execution_count": 12,
   "metadata": {},
   "outputs": [],
   "source": [
    "d2 = dict(d.copy())"
   ]
  },
  {
   "cell_type": "code",
   "execution_count": 13,
   "metadata": {},
   "outputs": [],
   "source": [
    "i = len(d) - 2"
   ]
  },
  {
   "cell_type": "code",
   "execution_count": 14,
   "metadata": {},
   "outputs": [],
   "source": [
    "for x in d2.keys():\n",
    "    d2[x] = ''"
   ]
  },
  {
   "cell_type": "code",
   "execution_count": 15,
   "metadata": {},
   "outputs": [
    {
     "name": "stdout",
     "output_type": "stream",
     "text": [
      "3\n",
      "a \n",
      "r \n",
      "b \n",
      "c 0\n",
      "d 1\n",
      "[('a', 0.45454545454545453), ('r', 0.18181818181818182), ('b', 0.18181818181818182), ('cd', 0.18181818181818182)]\n",
      "2\n",
      "a \n",
      "r \n",
      "b 0\n",
      "c 01\n",
      "d 11\n",
      "[('a', 0.45454545454545453), ('bcd', 0.36363636363636365), ('r', 0.18181818181818182)]\n",
      "1\n",
      "a \n",
      "r 0\n",
      "b 01\n",
      "c 011\n",
      "d 111\n",
      "[('bcdr', 0.5454545454545454), ('a', 0.45454545454545453)]\n",
      "0\n",
      "a 0\n",
      "r 01\n",
      "b 011\n",
      "c 0111\n",
      "d 1111\n",
      "[('bcdra', 1.0)]\n"
     ]
    }
   ],
   "source": [
    "while i!=-1:\n",
    "    print(i)\n",
    "    first = d[i][0]+d[i+1][0]\n",
    "    second = d[i][1]+d[i+1][1]\n",
    "    a = (first, second)\n",
    "    d.append(a)\n",
    "    if d[i][1]>d[i+1][1]:\n",
    "        for key, value in d2.items():\n",
    "            if key in d[i][0]:\n",
    "                d2[key] += '1'\n",
    "            elif key in d[i+1][0]:\n",
    "                d2[key] += '0'\n",
    "            print(key, d2[key])\n",
    "    else:\n",
    "        for key, value in d2.items():\n",
    "            if key in d[i][0]:\n",
    "                d2[key] += '0'\n",
    "            elif key in d[i+1][0]:\n",
    "                d2[key] += '1'\n",
    "            print(key, d2[key])\n",
    "    d = dict(d)\n",
    "    d = sorted(d.items(), key=lambda x: x[1], reverse = True)\n",
    "    del d[-1]\n",
    "    del d[-1]\n",
    "    print(d)\n",
    "    i-=1"
   ]
  },
  {
   "cell_type": "code",
   "execution_count": 16,
   "metadata": {},
   "outputs": [],
   "source": [
    "for key in d2.keys():\n",
    "    d2[key] = d2[key][::-1]"
   ]
  },
  {
   "cell_type": "code",
   "execution_count": 17,
   "metadata": {},
   "outputs": [],
   "source": [
    "output = ''\n",
    "for word in text:\n",
    "    for char in word:\n",
    "        output+=d2[char]"
   ]
  },
  {
   "cell_type": "code",
   "execution_count": 18,
   "metadata": {},
   "outputs": [
    {
     "data": {
      "text/plain": [
       "'01101001110011110110100'"
      ]
     },
     "execution_count": 18,
     "metadata": {},
     "output_type": "execute_result"
    }
   ],
   "source": [
    "output"
   ]
  },
  {
   "cell_type": "code",
   "execution_count": null,
   "metadata": {},
   "outputs": [],
   "source": []
  }
 ],
 "metadata": {
  "kernelspec": {
   "display_name": "Python [default]",
   "language": "python",
   "name": "python3"
  },
  "language_info": {
   "codemirror_mode": {
    "name": "ipython",
    "version": 3
   },
   "file_extension": ".py",
   "mimetype": "text/x-python",
   "name": "python",
   "nbconvert_exporter": "python",
   "pygments_lexer": "ipython3",
   "version": "3.6.6"
  }
 },
 "nbformat": 4,
 "nbformat_minor": 2
}
